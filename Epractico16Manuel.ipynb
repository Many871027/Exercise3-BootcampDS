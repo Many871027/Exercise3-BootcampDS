{
 "cells": [
  {
   "cell_type": "markdown",
   "metadata": {},
   "source": [
    "```markdown\n",
    "___Ejercicio 16__\n",
    "\n",
    "Este es un conjunto de datos públicos de comercio electrónico brasileño de pedidos realizados en Olist Store. El conjunto de datos tiene información de **100 000 pedidos** de **2016 a 2018** realizados en varios mercados de Brasil.\n",
    "\n",
    "Sus características permiten ver un pedido desde múltiples dimensiones:\n",
    "- Estado del pedido\n",
    "- Precio\n",
    "- Pago\n",
    "- Rendimiento del flete\n",
    "- Ubicación del cliente\n",
    "- Atributos del producto\n",
    "- Reseñas escritas por los clientes\n",
    "\n",
    "```"
   ]
  },
  {
   "cell_type": "code",
   "execution_count": null,
   "metadata": {},
   "outputs": [
    {
     "name": "stdout",
     "output_type": "stream",
     "text": [
      "Path to dataset files: C:\\Users\\Manuel\\.cache\\kagglehub\\datasets\\olistbr\\brazilian-ecommerce\\versions\\2\n"
     ]
    }
   ],
   "source": [
    "import kagglehub\n",
    "\n",
    "# Download latest version\n",
    "path = kagglehub.dataset_download(\"olistbr/brazilian-ecommerce\")\n",
    "\n",
    "print(\"Path to dataset files:\", path)"
   ]
  },
  {
   "cell_type": "code",
   "execution_count": null,
   "metadata": {},
   "outputs": [
    {
     "name": "stdout",
     "output_type": "stream",
     "text": [
      "dict_keys(['olist_customers_dataset', 'olist_geolocation_dataset', 'olist_orders_dataset', 'olist_order_items_dataset', 'olist_order_payments_dataset', 'olist_order_reviews_dataset', 'olist_products_dataset', 'olist_sellers_dataset', 'product_category_name_translation'])\n"
     ]
    }
   ],
   "source": [
    "import os\n",
    "import pandas as pd\n",
    "\n",
    "files = os.listdir(path) # Obtener la lista de archivos en el directorio\n",
    "\n",
    "csv_files = [f for f in files if f.endswith('.csv')] # Filtrar solo los archivos CSV\n",
    "\n",
    "dataframes = {}\n",
    "\n",
    "for file in csv_files:  # Leer cada archivo CSV y almacenarlo en el diccionario\n",
    "    file_path = os.path.join(path, file)\n",
    "    df_name = os.path.splitext(file)[0]  # Nombre del dataframe sin la extensión .csv\n",
    "    dataframes[df_name] = pd.read_csv(file_path)\n",
    "\n",
    "\n",
    "print(dataframes.keys())"
   ]
  },
  {
   "cell_type": "code",
   "execution_count": 15,
   "metadata": {},
   "outputs": [
    {
     "name": "stdout",
     "output_type": "stream",
     "text": [
      "                            customer_id                customer_unique_id  \\\n",
      "0      06b8999e2fba1a1fbc88172c00ba8bc7  861eff4711a542e4b93843c6dd7febb0   \n",
      "1      18955e83d337fd6b2def6b18a428ac77  290c77bc529b7ac935b93aa66c333dc3   \n",
      "2      4e7b3e00288586ebd08712fdd0374a03  060e732b5b29e8181a18229c7b0b2b5e   \n",
      "3      b2b6027bc5c5109e529d4dc6358b12c3  259dac757896d24d7702b9acbbff3f3c   \n",
      "4      4f2d8ab171c80ec8364f7c12e35b23ad  345ecd01c38d18a9036ed96c73b8d066   \n",
      "...                                 ...                               ...   \n",
      "99436  17ddf5dd5d51696bb3d7c6291687be6f  1a29b476fee25c95fbafc67c5ac95cf8   \n",
      "99437  e7b71a9017aa05c9a7fd292d714858e8  d52a67c98be1cf6a5c84435bd38d095d   \n",
      "99438  5e28dfe12db7fb50a4b2f691faecea5e  e9f50caf99f032f0bf3c55141f019d99   \n",
      "99439  56b18e2166679b8a959d72dd06da27f9  73c2643a0a458b49f58cea58833b192e   \n",
      "99440  274fa6071e5e17fe303b9748641082c8  84732c5050c01db9b23e19ba39899398   \n",
      "\n",
      "       customer_zip_code_prefix          customer_city customer_state  \n",
      "0                         14409                 franca             SP  \n",
      "1                          9790  sao bernardo do campo             SP  \n",
      "2                          1151              sao paulo             SP  \n",
      "3                          8775        mogi das cruzes             SP  \n",
      "4                         13056               campinas             SP  \n",
      "...                         ...                    ...            ...  \n",
      "99436                      3937              sao paulo             SP  \n",
      "99437                      6764        taboao da serra             SP  \n",
      "99438                     60115              fortaleza             CE  \n",
      "99439                     92120                 canoas             RS  \n",
      "99440                      6703                  cotia             SP  \n",
      "\n",
      "[99441 rows x 5 columns]\n"
     ]
    }
   ],
   "source": [
    "print(dataframes['olist_customers_dataset'])"
   ]
  },
  {
   "cell_type": "code",
   "execution_count": 7,
   "metadata": {},
   "outputs": [
    {
     "data": {
      "text/plain": [
       "<google.oauth2.service_account.Credentials at 0x203de07e490>"
      ]
     },
     "execution_count": 7,
     "metadata": {},
     "output_type": "execute_result"
    }
   ],
   "source": [
    "# Generamos conexion a BQ\n",
    "from google.oauth2 import service_account # para generar conexion con BigQuery\n",
    "bq_cred = service_account.Credentials.from_service_account_file(r'D:\\BOOTCAMP\\DataBootcamp\\tactical-hydra-440201-p5-61a36569c7db.json')\n",
    "bq_cred\n"
   ]
  },
  {
   "cell_type": "code",
   "execution_count": null,
   "metadata": {},
   "outputs": [
    {
     "name": "stdout",
     "output_type": "stream",
     "text": [
      "Dataset tactical-hydra-440201-p5.olistbr_brazilian_ecommerce creado o ya existente.\n"
     ]
    }
   ],
   "source": [
    "import pandas_gbq\n",
    "from google.cloud import bigquery\n",
    "from google.oauth2 import service_account\n",
    "\n",
    "project_id = 'tactical-hydra-440201-p5' \n",
    "dataset_id = f'{project_id}.olistbr_brazilian_ecommerce'  # nombramos el dataset como 'olistbr_brazilian_ecommerce' \n",
    "\n",
    "client = bigquery.Client(project=project_id, credentials=bq_cred)# Crear un cliente de BigQuery\n",
    "\n",
    "dataset = bigquery.Dataset(dataset_id)# Crear el  Dataset\n",
    "dataset.location = 'US'  # Especifica tu ubicación\n",
    "\n",
    "dataset = client.create_dataset(dataset, exists_ok=True) # Crear el dataset si no existe\n",
    "print(f\"Dataset {dataset_id} creado o ya existente.\")"
   ]
  },
  {
   "cell_type": "code",
   "execution_count": null,
   "metadata": {},
   "outputs": [
    {
     "name": "stderr",
     "output_type": "stream",
     "text": [
      "100%|██████████| 1/1 [00:00<?, ?it/s]\n"
     ]
    },
    {
     "name": "stdout",
     "output_type": "stream",
     "text": [
      "Tabla olistbr_brazilian_ecommerce.olist_customers_dataset cargada exitosamente.\n"
     ]
    },
    {
     "name": "stderr",
     "output_type": "stream",
     "text": [
      "100%|██████████| 1/1 [00:00<?, ?it/s]\n"
     ]
    },
    {
     "name": "stdout",
     "output_type": "stream",
     "text": [
      "Tabla olistbr_brazilian_ecommerce.olist_geolocation_dataset cargada exitosamente.\n"
     ]
    },
    {
     "name": "stderr",
     "output_type": "stream",
     "text": [
      "100%|██████████| 1/1 [00:00<?, ?it/s]\n"
     ]
    },
    {
     "name": "stdout",
     "output_type": "stream",
     "text": [
      "Tabla olistbr_brazilian_ecommerce.olist_orders_dataset cargada exitosamente.\n"
     ]
    },
    {
     "name": "stderr",
     "output_type": "stream",
     "text": [
      "100%|██████████| 1/1 [00:00<?, ?it/s]\n"
     ]
    },
    {
     "name": "stdout",
     "output_type": "stream",
     "text": [
      "Tabla olistbr_brazilian_ecommerce.olist_order_items_dataset cargada exitosamente.\n"
     ]
    },
    {
     "name": "stderr",
     "output_type": "stream",
     "text": [
      "100%|██████████| 1/1 [00:00<?, ?it/s]\n"
     ]
    },
    {
     "name": "stdout",
     "output_type": "stream",
     "text": [
      "Tabla olistbr_brazilian_ecommerce.olist_order_payments_dataset cargada exitosamente.\n"
     ]
    },
    {
     "name": "stderr",
     "output_type": "stream",
     "text": [
      "100%|██████████| 1/1 [00:00<?, ?it/s]\n"
     ]
    },
    {
     "name": "stdout",
     "output_type": "stream",
     "text": [
      "Tabla olistbr_brazilian_ecommerce.olist_order_reviews_dataset cargada exitosamente.\n"
     ]
    },
    {
     "name": "stderr",
     "output_type": "stream",
     "text": [
      "100%|██████████| 1/1 [00:00<?, ?it/s]\n"
     ]
    },
    {
     "name": "stdout",
     "output_type": "stream",
     "text": [
      "Tabla olistbr_brazilian_ecommerce.olist_products_dataset cargada exitosamente.\n"
     ]
    },
    {
     "name": "stderr",
     "output_type": "stream",
     "text": [
      "100%|██████████| 1/1 [00:00<?, ?it/s]\n"
     ]
    },
    {
     "name": "stdout",
     "output_type": "stream",
     "text": [
      "Tabla olistbr_brazilian_ecommerce.olist_sellers_dataset cargada exitosamente.\n"
     ]
    },
    {
     "name": "stderr",
     "output_type": "stream",
     "text": [
      "100%|██████████| 1/1 [00:00<?, ?it/s]"
     ]
    },
    {
     "name": "stdout",
     "output_type": "stream",
     "text": [
      "Tabla olistbr_brazilian_ecommerce.product_category_name_translation cargada exitosamente.\n"
     ]
    },
    {
     "name": "stderr",
     "output_type": "stream",
     "text": [
      "\n"
     ]
    }
   ],
   "source": [
    "for table_id, df in dataframes.items(): # Iterar sobre los DataFrames y cargarlos en BigQuery\n",
    "     destination_table = f'olistbr_brazilian_ecommerce.{table_id}'\n",
    "    \n",
    "      pandas_gbq.to_gbq(\n",
    "        df,\n",
    "        destination_table=destination_table,\n",
    "        project_id=project_id,\n",
    "        if_exists='replace',\n",
    "        credentials=bq_cred\n",
    "    )\n",
    "    print(f\"Tabla {destination_table} cargada exitosamente.\")"
   ]
  },
  {
   "cell_type": "code",
   "execution_count": 18,
   "metadata": {},
   "outputs": [
    {
     "name": "stderr",
     "output_type": "stream",
     "text": [
      "C:\\Users\\Manuel\\AppData\\Local\\Packages\\PythonSoftwareFoundation.Python.3.11_qbz5n2kfra8p0\\LocalCache\\local-packages\\Python311\\site-packages\\google\\cloud\\bigquery\\table.py:1727: UserWarning: BigQuery Storage module not found, fetch data with the REST endpoint instead.\n",
      "  warnings.warn(\n"
     ]
    },
    {
     "name": "stdout",
     "output_type": "stream",
     "text": [
      "                       month  total_sales\n",
      "0  2016-09-01 00:00:00+00:00       267.36\n",
      "1  2016-10-01 00:00:00+00:00     49507.66\n",
      "2  2016-12-01 00:00:00+00:00        10.90\n",
      "3  2017-01-01 00:00:00+00:00    120312.87\n",
      "4  2017-02-01 00:00:00+00:00    247303.02\n",
      "5  2017-03-01 00:00:00+00:00    374344.30\n",
      "6  2017-04-01 00:00:00+00:00    359927.23\n",
      "7  2017-05-01 00:00:00+00:00    506071.14\n",
      "8  2017-06-01 00:00:00+00:00    433038.60\n",
      "9  2017-07-01 00:00:00+00:00    498031.48\n",
      "10 2017-08-01 00:00:00+00:00    573971.68\n",
      "11 2017-09-01 00:00:00+00:00    624401.69\n",
      "12 2017-10-01 00:00:00+00:00    664219.43\n",
      "13 2017-11-01 00:00:00+00:00   1010271.37\n",
      "14 2017-12-01 00:00:00+00:00    743914.17\n",
      "15 2018-01-01 00:00:00+00:00    950030.36\n",
      "16 2018-02-01 00:00:00+00:00    844178.71\n",
      "17 2018-03-01 00:00:00+00:00    983213.44\n",
      "18 2018-04-01 00:00:00+00:00    996647.75\n",
      "19 2018-05-01 00:00:00+00:00    996517.68\n",
      "20 2018-06-01 00:00:00+00:00    865124.31\n",
      "21 2018-07-01 00:00:00+00:00    895507.22\n",
      "22 2018-08-01 00:00:00+00:00    854686.33\n",
      "23 2018-09-01 00:00:00+00:00       145.00\n"
     ]
    }
   ],
   "source": [
    "query = \"\"\"\n",
    "SELECT\n",
    "    DATE_TRUNC(PARSE_TIMESTAMP('%Y-%m-%d %H:%M:%S', o.order_purchase_timestamp), MONTH) AS month,\n",
    "    SUM(oi.price) AS total_sales\n",
    "FROM\n",
    "    `tactical-hydra-440201-p5.olistbr_brazilian_ecommerce.olist_order_items_dataset` AS oi\n",
    "JOIN\n",
    "    `tactical-hydra-440201-p5.olistbr_brazilian_ecommerce.olist_orders_dataset` AS o\n",
    "ON\n",
    "    oi.order_id = o.order_id\n",
    "GROUP BY\n",
    "    month\n",
    "ORDER BY\n",
    "    month\n",
    "\"\"\"\n",
    "\n",
    "monthly_sales = client.query(query).to_dataframe()\n",
    "print(monthly_sales)"
   ]
  },
  {
   "cell_type": "code",
   "execution_count": null,
   "metadata": {},
   "outputs": [],
   "source": []
  },
  {
   "cell_type": "code",
   "execution_count": 19,
   "metadata": {},
   "outputs": [
    {
     "data": {
      "image/png": "[encoded data removed]",
      "text/plain": [
       "<Figure size 1200x600 with 1 Axes>"
      ]
     },
     "metadata": {},
     "output_type": "display_data"
    }
   ],
   "source": [
    "import matplotlib.pyplot as plt\n",
    "\n",
    "# Configurar el tamaño de la figura\n",
    "plt.figure(figsize=(12, 6))\n",
    "\n",
    "# Graficar la serie temporal\n",
    "plt.plot(monthly_sales['month'], monthly_sales['total_sales'], marker='o')\n",
    "\n",
    "# Configurar etiquetas y título\n",
    "plt.xlabel('Month')\n",
    "plt.ylabel('Total Sales')\n",
    "plt.title('Monthly Total Sales')\n",
    "\n",
    "# Rotar las etiquetas del eje x para mejor legibilidad\n",
    "plt.xticks(rotation=45)\n",
    "\n",
    "# Mostrar la gráfica\n",
    "plt.grid(True)\n",
    "plt.show()"
   ]
  }
 ],
 "metadata": {
  "kernelspec": {
   "display_name": "Python 3",
   "language": "python",
   "name": "python3"
  },
  "language_info": {
   "codemirror_mode": {
    "name": "ipython",
    "version": 3
   },
   "file_extension": ".py",
   "mimetype": "text/x-python",
   "name": "python",
   "nbconvert_exporter": "python",
   "pygments_lexer": "ipython3",
   "version": "3.11.9"
  }
 },
 "nbformat": 4,
 "nbformat_minor": 2
}
