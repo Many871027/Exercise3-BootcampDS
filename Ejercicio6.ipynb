{
 "cells": [
  {
   "cell_type": "markdown",
   "metadata": {},
   "source": [
    "## Ejercicio semana 6\n",
    "\n",
    "***Tema: Encapsulamiento y Abstracción***\n",
    "\n",
    "**Objetivo**\n",
    "Crear una clase `CuentaBancaria` que tenga atributos privados como `saldo` y `numero_de_cuenta`, y métodos públicos para `depositar`, `retirar` y `mostrar` el saldo.\n",
    "\n",
    "**Implementación**\n",
    "- Definir la clase `CuentaBancaria` y sus dos atributos, `saldo` (inicializado en 0) y `numero_de_cuenta`.\n",
    "- Definir los métodos `depositar`, `retirar` y `mostrar`.\n",
    "- Asegurarse de que el saldo no pueda ser accedido o modificado directamente, sino sólo a través de los métodos de la clase.\n",
    "- En el método `retirar`, asegurarse de que no se retire más dinero del disponible.\n"
   ]
  },
  {
   "cell_type": "code",
   "execution_count": 48,
   "metadata": {},
   "outputs": [],
   "source": [
    "class Cuenta_Bancaria:\n",
    "    def __init__(self, numero_cuenta):\n",
    "        self.__saldo = 0 #se crea un atrivuto privado mediante el doble guion bajo, saldo inicial de 0, se puede modificar solo a traves de metodos\n",
    "        self.numero_cuenta = numero_cuenta\n",
    "        \n",
    "\n",
    "    def depositar(self, cantidad): # se define el metodo depositar y se usa un condicional para realizar la operacion\n",
    "        if cantidad > 0:\n",
    "            self.__saldo += cantidad\n",
    "            print(\"Deposito exitoso .... Su saldo actual es:\", self.__saldo)\n",
    "        else:\n",
    "            print(\"No se puede depositar una cantidad negativa\")\n",
    "        \n",
    "    def retirar(self, cantidad): # se define el metodo retirar y se usa un condicional para realizar la operacion\n",
    "        if cantidad > self.__saldo:\n",
    "            print(\"No se puede retirar mas de lo que hay en la cuenta\")\n",
    "        elif cantidad <= 0:\n",
    "            print(\"No se puede retirar una cantidad negativa\")\n",
    "        else:\n",
    "            self.__saldo -= cantidad\n",
    "            print('Retiro exitoso .... Susaldo actual es:', self.__saldo)\n",
    "    \n",
    "    def mostrar_saldo(self): # se define el metodo mostrar_saldo para mostrar el saldo actual\n",
    "        return self.__saldo"
   ]
  },
  {
   "cell_type": "code",
   "execution_count": 44,
   "metadata": {},
   "outputs": [
    {
     "name": "stdout",
     "output_type": "stream",
     "text": [
      "Deposito exitoso .... Su saldo actual es: 33\n"
     ]
    }
   ],
   "source": [
    "cuenta = Cuenta_Bancaria( 123456789) #se crea un objeto de la clase Cuenta_Bancaria\n",
    "\n",
    "cuenta.depositar(int(input(\"Ingrese la cantidad a depositar: \"))) #se llama al metodo depositar y se le pasa la cantidad a depositar\n"
   ]
  },
  {
   "cell_type": "code",
   "execution_count": 45,
   "metadata": {},
   "outputs": [
    {
     "name": "stdout",
     "output_type": "stream",
     "text": [
      "Retiro exitoso .... Susaldo actual es: 15\n"
     ]
    }
   ],
   "source": [
    "cuenta.retirar(int(input(\"Ingrese el monto a retirar: \"))) #se llama al metodo retirar y se le pasa la cantidad a retirar\n"
   ]
  },
  {
   "cell_type": "code",
   "execution_count": 47,
   "metadata": {},
   "outputs": [
    {
     "name": "stdout",
     "output_type": "stream",
     "text": [
      "Gracias por su visita\n"
     ]
    }
   ],
   "source": [
    "consulta = int(input(\"Desea consultar saldo: 0=si, 1=no: \")) #se le pregunta al usuario si desea consultar su saldo\n",
    "if consulta == 0: #si la respuesta es 0 se muestra el saldo\n",
    "    print(\"Su saldo actual es:\", cuenta.mostrar_saldo()) #se llama al metodo mostrar_saldo\n",
    "else:  #si la respuesta es 1 se muestra un mensaje de despedida\n",
    "    print(\"Gracias por su visita\")"
   ]
  }
 ],
 "metadata": {
  "kernelspec": {
   "display_name": "Python 3",
   "language": "python",
   "name": "python3"
  },
  "language_info": {
   "codemirror_mode": {
    "name": "ipython",
    "version": 3
   },
   "file_extension": ".py",
   "mimetype": "text/x-python",
   "name": "python",
   "nbconvert_exporter": "python",
   "pygments_lexer": "ipython3",
   "version": "3.11.9"
  }
 },
 "nbformat": 4,
 "nbformat_minor": 2
}
