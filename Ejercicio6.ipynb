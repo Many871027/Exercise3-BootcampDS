{
 "cells": [
  {
   "cell_type": "markdown",
   "metadata": {},
   "source": [
    "## Ejercicio semana 6\n",
    "\n",
    "***Tema: Encapsulamiento y Abstracción***\n",
    "\n",
    "**Objetivo**\n",
    "Crear una clase `CuentaBancaria` que tenga atributos privados como `saldo` y `numero_de_cuenta`, y métodos públicos para `depositar`, `retirar` y `mostrar` el saldo.\n",
    "\n",
    "**Implementación**\n",
    "- Definir la clase `CuentaBancaria` y sus dos atributos, `saldo` (inicializado en 0) y `numero_de_cuenta`.\n",
    "- Definir los métodos `depositar`, `retirar` y `mostrar`.\n",
    "- Asegurarse de que el saldo no pueda ser accedido o modificado directamente, sino sólo a través de los métodos de la clase.\n",
    "- En el método `retirar`, asegurarse de que no se retire más dinero del disponible.\n"
   ]
  },
  {
   "cell_type": "code",
   "execution_count": 50,
   "metadata": {},
   "outputs": [],
   "source": [
    "import pandas as pd \n",
    "import random as rd\n",
    "import matplotlib.pyplot as plt "
   ]
  },
  {
   "cell_type": "code",
   "execution_count": 51,
   "metadata": {},
   "outputs": [],
   "source": [
    "class Cuenta_Bancaria:\n",
    "    def __init__(self, numero_cuenta):\n",
    "        self.__saldo = 0 #se crea un atrivuto privado mediante el doble guion bajo, saldo inicial de 0, se puede modificar solo a traves de metodos\n",
    "        self.numero_cuenta = numero_cuenta\n",
    "        \n",
    "\n",
    "    def depositar(self, cantidad): # se define el metodo depositar y se usa un condicional para realizar la operacion\n",
    "        if cantidad > 0:\n",
    "            self.__saldo += cantidad\n",
    "            print(\"Deposito exitoso .... Su saldo actual es:\", self.__saldo)\n",
    "        else:\n",
    "            print(\"No se puede depositar una cantidad negativa\")\n",
    "        \n",
    "    def retirar(self, cantidad): # se define el metodo retirar y se usa un condicional para realizar la operacion\n",
    "        if cantidad > self.__saldo:\n",
    "            print(\"No se puede retirar mas de lo que hay en la cuenta\")\n",
    "        elif cantidad <= 0:\n",
    "            print(\"No se puede retirar una cantidad negativa\")\n",
    "        else:\n",
    "            self.__saldo -= cantidad\n",
    "            print('Retiro exitoso .... Susaldo actual es:', self.__saldo)\n",
    "    \n",
    "    def mostrar_saldo(self): # se define el metodo mostrar_saldo para mostrar el saldo actual\n",
    "        return self.__saldo"
   ]
  },
  {
   "cell_type": "code",
   "execution_count": 63,
   "metadata": {},
   "outputs": [
    {
     "name": "stdout",
     "output_type": "stream",
     "text": [
      "Deposito exitoso .... Su saldo actual es: 2\n"
     ]
    }
   ],
   "source": [
    "cuenta = Cuenta_Bancaria(1936265916283242) #se crea un objeto de la clase Cuenta_Bancaria\n",
    "\n",
    "cuenta.depositar(int(input(\"Ingrese la cantidad a depositar: \"))) #se llama al metodo depositar y se le pasa la cantidad a depositar\n"
   ]
  },
  {
   "cell_type": "code",
   "execution_count": 53,
   "metadata": {},
   "outputs": [
    {
     "name": "stdout",
     "output_type": "stream",
     "text": [
      "Retiro exitoso .... Susaldo actual es: 2\n"
     ]
    }
   ],
   "source": [
    "cuenta.retirar(int(input(\"Ingrese el monto a retirar: \"))) #se llama al metodo retirar y se le pasa la cantidad a retirar\n"
   ]
  },
  {
   "cell_type": "code",
   "execution_count": 54,
   "metadata": {},
   "outputs": [
    {
     "name": "stdout",
     "output_type": "stream",
     "text": [
      "Gracias por su visita\n"
     ]
    }
   ],
   "source": [
    "consulta = int(input(\"Desea consultar saldo: 0=si, 1=no: \")) #se le pregunta al usuario si desea consultar su saldo\n",
    "if consulta == 0: #si la respuesta es 0 se muestra el saldo\n",
    "    print(\"Su saldo actual es:\", cuenta.mostrar_saldo()) #se llama al metodo mostrar_saldo\n",
    "else:  #si la respuesta es 1 se muestra un mensaje de despedida\n",
    "    print(\"Gracias por su visita\")"
   ]
  },
  {
   "cell_type": "markdown",
   "metadata": {},
   "source": [
    "# Practica extra con los metodos del ejercicio 6"
   ]
  },
  {
   "cell_type": "code",
   "execution_count": 82,
   "metadata": {},
   "outputs": [
    {
     "name": "stdout",
     "output_type": "stream",
     "text": [
      "El numero de cuentas generadas es: [<__main__.Cuenta_Bancaria object at 0x000002081DA2C650>, <__main__.Cuenta_Bancaria object at 0x000002081DA2FAD0>, <__main__.Cuenta_Bancaria object at 0x000002081B0739D0>, <__main__.Cuenta_Bancaria object at 0x000002081DA7B250>, <__main__.Cuenta_Bancaria object at 0x000002081DA7ADD0>, <__main__.Cuenta_Bancaria object at 0x000002081DA442D0>, <__main__.Cuenta_Bancaria object at 0x000002081DA44050>, <__main__.Cuenta_Bancaria object at 0x000002081DA80190>, <__main__.Cuenta_Bancaria object at 0x000002081CF514D0>, <__main__.Cuenta_Bancaria object at 0x000002081DA7F750>]\n"
     ]
    }
   ],
   "source": [
    "import random\n",
    "\n",
    "\n",
    "cuentas = []\n",
    "n_cuentas = 10 #se genera un numero aleatorio para el numero de cuentas\n",
    "for _ in range(n_cuentas):\n",
    "    cuentas_aleatorias = random.randint(10**15, 10**16 - 1)#se generan numeros aleatorios para las cuentas\n",
    "    cuenta = Cuenta_Bancaria(cuentas_aleatorias)\n",
    "    cuentas.append(cuenta)\n",
    "\n",
    "print(\"El numero de cuentas generadas es:\", cuentas) #se muestra el numero de cuentas generadas"
   ]
  },
  {
   "cell_type": "code",
   "execution_count": 93,
   "metadata": {},
   "outputs": [
    {
     "name": "stdout",
     "output_type": "stream",
     "text": [
      "Deposito exitoso .... Su saldo actual es: 2012\n",
      "Deposito exitoso .... Su saldo actual es: 211\n",
      "Deposito exitoso .... Su saldo actual es: 111\n",
      "Deposito exitoso .... Su saldo actual es: 111\n",
      "Deposito exitoso .... Su saldo actual es: 111\n",
      "Deposito exitoso .... Su saldo actual es: 111\n",
      "Deposito exitoso .... Su saldo actual es: 111\n",
      "Deposito exitoso .... Su saldo actual es: 111\n",
      "Deposito exitoso .... Su saldo actual es: 111\n",
      "Deposito exitoso .... Su saldo actual es: 111\n"
     ]
    }
   ],
   "source": [
    "for i, cuenta in enumerate(cuentas): # uso un ciclo for para recorrer la lista de cuentas y depositar en cada una\n",
    "    cantidad = int(input(f\"Ingrese la cantidad a depositar en la cuenta {i+1} (Número de cuenta: {cuenta.numero_cuenta}): \"))\n",
    "    cuenta.depositar(cantidad)"
   ]
  },
  {
   "cell_type": "code",
   "execution_count": 118,
   "metadata": {},
   "outputs": [
    {
     "name": "stdout",
     "output_type": "stream",
     "text": [
      "Retiro exitoso .... Susaldo actual es: 212\n"
     ]
    }
   ],
   "source": [
    "cuentas[0].retirar(750) #se retira una cantidad de la cuenta 0"
   ]
  },
  {
   "cell_type": "code",
   "execution_count": 119,
   "metadata": {},
   "outputs": [
    {
     "name": "stdout",
     "output_type": "stream",
     "text": [
      "Número de cuenta: 9480079494061288, Saldo: 212\n",
      "Número de cuenta: 4587440655983845, Saldo: 211\n",
      "Número de cuenta: 7344247858477514, Saldo: 111\n",
      "Número de cuenta: 5892252959076684, Saldo: 111\n",
      "Número de cuenta: 1803782076015638, Saldo: 111\n",
      "Número de cuenta: 7433127153765042, Saldo: 111\n",
      "Número de cuenta: 1000731425433489, Saldo: 111\n",
      "Número de cuenta: 3663522329505168, Saldo: 111\n",
      "Número de cuenta: 8329762313814430, Saldo: 111\n",
      "Número de cuenta: 6548332714735331, Saldo: 111\n"
     ]
    }
   ],
   "source": [
    "for cuenta in cuentas:\n",
    "    print(f\"Número de cuenta: {cuenta.numero_cuenta}, Saldo: {cuenta.mostrar_saldo()}\") #se muestra el numero de cuenta y el saldo de cada cuenta"
   ]
  },
  {
   "cell_type": "code",
   "execution_count": 120,
   "metadata": {},
   "outputs": [
    {
     "name": "stdout",
     "output_type": "stream",
     "text": [
      "   Numero de Cuenta  Saldo\n",
      "0  9480079494061288    212\n",
      "1  4587440655983845    211\n",
      "2  7344247858477514    111\n",
      "3  5892252959076684    111\n",
      "4  1803782076015638    111\n",
      "5  7433127153765042    111\n",
      "6  1000731425433489    111\n",
      "7  3663522329505168    111\n",
      "8  8329762313814430    111\n",
      "9  6548332714735331    111\n"
     ]
    }
   ],
   "source": [
    "data = [] #se crea una lista vacia para almacenar los datos de las cuentas\n",
    "for cuenta in cuentas:\n",
    "    data.append({\n",
    "        \"Numero de Cuenta\": cuenta.numero_cuenta,\n",
    "        \"Saldo\": cuenta.mostrar_saldo()\n",
    "        })\n",
    "\n",
    "df = pd.DataFrame(data) #se crea un dataframe con los datos de las cuentas\n",
    "\n",
    "\n",
    "print(df)"
   ]
  },
  {
   "cell_type": "code",
   "execution_count": 126,
   "metadata": {},
   "outputs": [
    {
     "data": {
      "image/png": "[encoded data removed]",
      "text/plain": [
       "<Figure size 1000x600 with 1 Axes>"
      ]
     },
     "metadata": {},
     "output_type": "display_data"
    }
   ],
   "source": [
    "plt.figure(figsize=(10, 6))\n",
    "plt.scatter(df['Numero de Cuenta'], df[\"Saldo\"])\n",
    "plt.title(\"Saldo por Cuenta\", fontsize=16)\n",
    "plt.grid()\n",
    "plt.show() #se genera un grafico de dispersion con el saldo por cuenta"
   ]
  }
 ],
 "metadata": {
  "kernelspec": {
   "display_name": "Python 3",
   "language": "python",
   "name": "python3"
  },
  "language_info": {
   "codemirror_mode": {
    "name": "ipython",
    "version": 3
   },
   "file_extension": ".py",
   "mimetype": "text/x-python",
   "name": "python",
   "nbconvert_exporter": "python",
   "pygments_lexer": "ipython3",
   "version": "3.11.9"
  }
 },
 "nbformat": 4,
 "nbformat_minor": 2
}
