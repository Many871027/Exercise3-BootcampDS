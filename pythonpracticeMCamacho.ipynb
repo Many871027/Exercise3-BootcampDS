{
 "cells": [
  {
   "cell_type": "markdown",
   "metadata": {},
   "source": [
    "*** PRACTICAS CLASE 5***\n"
   ]
  },
  {
   "cell_type": "code",
   "execution_count": 1,
   "metadata": {},
   "outputs": [
    {
     "name": "stdout",
     "output_type": "stream",
     "text": [
      "Aprobado\n"
     ]
    }
   ],
   "source": [
    "calif = float(input(\"Ingrese la calificación obtenida:\"))\n",
    "if calif >= 6:\n",
    "    print(\"Aprobado\")\n",
    "else:\n",
    "    print(\"Reprobado\")"
   ]
  },
  {
   "cell_type": "code",
   "execution_count": 2,
   "metadata": {},
   "outputs": [
    {
     "name": "stdout",
     "output_type": "stream",
     "text": [
      "Aprobado\n"
     ]
    }
   ],
   "source": [
    "if calif > 9:\n",
    "    print(\"Aprobado\")\n",
    "    print(\"Felicidades\")\n",
    "elif calif >= 6:\n",
    "    print(\"Aprobado\")\n",
    "else:\n",
    "    print(\"No aprobado\")\n",
    "    \n",
    "    "
   ]
  },
  {
   "cell_type": "code",
   "execution_count": 3,
   "metadata": {},
   "outputs": [
    {
     "name": "stdout",
     "output_type": "stream",
     "text": [
      "Aprobado\n"
     ]
    }
   ],
   "source": [
    "mensaje = \"Reprobado\" \n",
    "if calif >9:\n",
    "    mensaje = \"Aprobado, Felicidades\"\n",
    "elif calif >= 6:\n",
    "    mensaje = \"Aprobado\"\n",
    "print(mensaje)"
   ]
  },
  {
   "cell_type": "code",
   "execution_count": 14,
   "metadata": {},
   "outputs": [
    {
     "name": "stdout",
     "output_type": "stream",
     "text": [
      "Aprobado\n"
     ]
    }
   ],
   "source": [
    "calif = int(input('ingrese calificacion: '))\n",
    "mensaje= \"Aprobado\" if calif >= 6 else \"Reprobado\"\n",
    "print(mensaje)"
   ]
  },
  {
   "cell_type": "markdown",
   "metadata": {},
   "source": [
    "****Ejercicios Clase 5****\n",
    "\n",
    "📚 Ejercicio de Programación en Python\n",
    "\n",
    "📝 **Instrucciones:** \n",
    "\n",
    "Resuelva los siguientes ejercicios en Python: \n",
    "\n",
    "1. Defina una lista de por lo menos 5 elementos e imprima cada uno de ellos y al final su suma (números) o concatenación.\n",
    "\n",
    "💡 _Ejemplo de Código:_\n"
   ]
  },
  {
   "cell_type": "code",
   "execution_count": 21,
   "metadata": {},
   "outputs": [
    {
     "name": "stdout",
     "output_type": "stream",
     "text": [
      "[33, 277, 722, 98, 22]\n",
      "Suma de los elementos: 1152\n",
      "Concatenación de los elementos: 332777229822\n"
     ]
    }
   ],
   "source": [
    "x = [] #Definire una lista vacia\n",
    "for _ in range(5):  #utilisare un ciclo  para llenar la lista con 5 elementos\n",
    "    xadd = int(input(\"Ingrese un número: \")) #pido un número mediante pantalla\n",
    "    x.append(xadd) #agrego el número a la lista\n",
    "print(x) #imprimo la lista\n",
    "xsum = sum(x) #sumo los elementos de la lista\n",
    "print(\"Suma de los elementos:\", xsum) #imprimo la suma\n",
    "xconc = ''.join(map(str, x)) #para concatenar los elementos de la lista, primero los convierto de tipo int a str\n",
    "print(\"Concatenación de los elementos:\", xconc) #imprimo la concatenación\n"
   ]
  },
  {
   "cell_type": "markdown",
   "metadata": {},
   "source": [
    "📝 Siguientes ejercicios \n",
    "\n",
    "2. Escriba un programa en Python que:\n",
    "- Reciba 5 números enteros por la interfaz.\n",
    "- Cuente cuántos de esos números son pares y cuántos son impares.\n",
    "- Muestre el resultado al usuario\n",
    "\n",
    "💡 _Ejemplo de Código:_"
   ]
  },
  {
   "cell_type": "code",
   "execution_count": 29,
   "metadata": {},
   "outputs": [
    {
     "name": "stdout",
     "output_type": "stream",
     "text": [
      "[3, 4, 6, 7, 12]\n",
      "El número 3 es impar\n",
      "El número 4 es par\n",
      "El número 6 es par\n",
      "El número 7 es impar\n",
      "El número 12 es par\n",
      "Cantidad de números pares: 3\n",
      "Cantidad de números impares: 2\n",
      "Lista ordenada: [3, 4, 6, 7, 12]\n"
     ]
    }
   ],
   "source": [
    "x = [] #Definire una lista vacia\n",
    "for _ in range(5):  #utilisare un ciclo  para llenar la lista con 5 elementos\n",
    "    xadd = int(input(\"Ingrese un número: \")) #pido un número mediante pantalla\n",
    "    x.append(xadd) #agrego el número a la lista\n",
    "print(x) #imprimo la lista\n",
    "\n",
    "for i in x: #utiliso un ciclo for para recorrer la lista\n",
    "    if i % 2 == 0: #utiliso un condicional para saber si el número es par o impar\n",
    "        print(\"El número\", i, \"es par\") #imprimo si el número es par\n",
    "    else: \n",
    "        print(\"El número\", i, \"es impar\") #imprimo si el número es impar\n",
    "\n",
    "count_pares = 0 #defino un contador para los números pares\n",
    "count_impares = 0 #defino un contador para los números impares\n",
    "\n",
    "for i in x:\n",
    "    num = i\n",
    "    if num % 2 == 0:\n",
    "        count_pares += 1\n",
    "    else:\n",
    "        count_impares += 1\n",
    "print(\"Cantidad de números pares:\", count_pares) #imprimo la cantidad de números pares\n",
    "print(\"Cantidad de números impares:\", count_impares) #imprimo la cantidad de números impares\n",
    "\n",
    "x_sorted = sorted(x) #aplico la función sorted para ordenar la lista\n",
    "print(\"Lista ordenada:\", x_sorted) #imprimo la lista ordenada\n",
    "\n"
   ]
  }
 ],
 "metadata": {
  "kernelspec": {
   "display_name": "Python 3",
   "language": "python",
   "name": "python3"
  },
  "language_info": {
   "codemirror_mode": {
    "name": "ipython",
    "version": 3
   },
   "file_extension": ".py",
   "mimetype": "text/x-python",
   "name": "python",
   "nbconvert_exporter": "python",
   "pygments_lexer": "ipython3",
   "version": "3.11.9"
  }
 },
 "nbformat": 4,
 "nbformat_minor": 2
}
